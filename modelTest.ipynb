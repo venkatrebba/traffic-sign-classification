{
 "cells": [
  {
   "cell_type": "code",
   "execution_count": 30,
   "metadata": {},
   "outputs": [],
   "source": [
    "\n",
    "import level1Model\n",
    "import os\n",
    "import skimage"
   ]
  },
  {
   "cell_type": "code",
   "execution_count": 31,
   "metadata": {},
   "outputs": [
    {
     "data": {
      "text/plain": [
       "\n",
       " 2\n",
       "[torch.LongTensor of size 1]"
      ]
     },
     "execution_count": 31,
     "metadata": {},
     "output_type": "execute_result"
    }
   ],
   "source": [
    "m = level1Model.Model('level1.pkl')\n",
    "m.predictImage('/home/venkat/Desktop/AI_ML/Hackathon-2/hackathon_02/data/signs_data_arranged/val/stop/add1_s8.png')"
   ]
  },
  {
   "cell_type": "code",
   "execution_count": 32,
   "metadata": {},
   "outputs": [],
   "source": [
    "classLabels = ['left_turn', 'right_turn', 'stop', 'u_turn']"
   ]
  },
  {
   "cell_type": "code",
   "execution_count": null,
   "metadata": {},
   "outputs": [],
   "source": [
    "def normalize(image):\n",
    "    normalize = transforms.Normalize(\n",
    "        mean=[0.485, 0.456, 0.406],\n",
    "        std=[0.229, 0.224, 0.225]\n",
    "    )\n",
    "    preprocess = transforms.Compose([\n",
    "    transforms.Resize((224,224)),\n",
    "    transforms.ToTensor(),\n",
    "    normalize\n",
    "    ])\n",
    "    image = Variable(preprocess(image).unsqueeze(0))\n",
    "    return image\n",
    "from PIL import Image\n",
    "fig = plt.figure()\n",
    "dir1 = \"run1\"\n",
    "i = 1\n",
    "model = torch.load('level1.pkl')\n",
    "for im in os.listdir(dir1):\n",
    "    if(i>5):\n",
    "        break\n",
    "    img_raw = Image.open(dir1 + \"/\" + im)\n",
    "    \n",
    "    ax = plt.subplot(5, 1, i)\n",
    "    plt.imshow(img)\n",
    "    ax.axis('off')\n",
    "    img = normalize(img_raw)\n",
    "    outputs = model(img)\n",
    "    _, preds = torch.max(outputs.data, 1)\n",
    "    pred = classLabels[int(preds)]\n",
    "    #plt.title(pred)\n",
    "    ax.set_title('predicted: {}'.format(pred))\n",
    "    i += 1\n",
    "    #print(pred)"
   ]
  },
  {
   "cell_type": "code",
   "execution_count": null,
   "metadata": {},
   "outputs": [],
   "source": []
  }
 ],
 "metadata": {
  "kernelspec": {
   "display_name": "Python 3",
   "language": "python",
   "name": "python3"
  },
  "language_info": {
   "codemirror_mode": {
    "name": "ipython",
    "version": 3
   },
   "file_extension": ".py",
   "mimetype": "text/x-python",
   "name": "python",
   "nbconvert_exporter": "python",
   "pygments_lexer": "ipython3",
   "version": "3.5.2"
  }
 },
 "nbformat": 4,
 "nbformat_minor": 2
}
