{
 "cells": [
  {
   "cell_type": "code",
   "execution_count": 1,
   "metadata": {},
   "outputs": [
    {
     "name": "stderr",
     "output_type": "stream",
     "text": [
      "/usr/local/lib/python3.5/dist-packages/h5py/__init__.py:36: FutureWarning: Conversion of the second argument of issubdtype from `float` to `np.floating` is deprecated. In future, it will be treated as `np.float64 == np.dtype(float).type`.\n",
      "  from ._conv import register_converters as _register_converters\n"
     ]
    }
   ],
   "source": [
    "from random import shuffle\n",
    "import glob\n",
    "import sys\n",
    "import cv2\n",
    "import numpy as np\n",
    "#import skimage.io as io\n",
    "import tensorflow as tf\n",
    "import matplotlib.pyplot as plt"
   ]
  },
  {
   "cell_type": "code",
   "execution_count": 2,
   "metadata": {},
   "outputs": [],
   "source": [
    "def _int64_feature(value):\n",
    "    return tf.train.Feature(int64_list=tf.train.Int64List(value=[value]))\n",
    "def _bytes_feature(value):\n",
    "    return tf.train.Feature(bytes_list=tf.train.BytesList(value=[value]))\n",
    "\n",
    "def load_image(addr):\n",
    "    # read an image and resize to (224, 224)\n",
    "    img = cv2.imread(addr)\n",
    "    if img is None:\n",
    "        return None\n",
    "    img = cv2.resize(img, (224, 224), interpolation=cv2.INTER_CUBIC)\n",
    "    #img = cv2.cvtColor(img, cv2.COLOR_BGR2RGB)\n",
    "    return img\n",
    " \n",
    "def createDataRecord(out_filename, addrs, labels):\n",
    "    # open the TFRecords file\n",
    "    writer = tf.python_io.TFRecordWriter(out_filename)\n",
    "    for i in range(len(addrs)):\n",
    "        \n",
    "        # Load the image\n",
    "        img = load_image(addrs[i])\n",
    "        label = labels[i]\n",
    "\n",
    "        if img is None:\n",
    "            continue\n",
    "\n",
    "        # Create a feature\n",
    "        feature = {\n",
    "            'image_raw': _bytes_feature(img.tostring()),\n",
    "            'label': _int64_feature(label)\n",
    "        }\n",
    "        \n",
    "        # Create an example protocol buffer\n",
    "        example = tf.train.Example(features=tf.train.Features(feature=feature))\n",
    "        \n",
    "        # Serialize to string and write on the file\n",
    "        writer.write(example.SerializeToString())\n",
    "        \n",
    "    writer.close()\n",
    "    sys.stdout.flush()\n"
   ]
  },
  {
   "cell_type": "code",
   "execution_count": 3,
   "metadata": {},
   "outputs": [
    {
     "data": {
      "text/plain": [
       "399"
      ]
     },
     "execution_count": 3,
     "metadata": {},
     "output_type": "execute_result"
    }
   ],
   "source": [
    "\n",
    "cat_dog_train_path = 'total/*.png'\n",
    "\n",
    "# read addresses and labels from the 'train' folder\n",
    "addrs = glob.glob(cat_dog_train_path)\n",
    "labels = [int((addr.split('_')[0]).split('/')[1]) for addr in addrs] \n",
    "len(addrs)\n"
   ]
  },
  {
   "cell_type": "code",
   "execution_count": null,
   "metadata": {},
   "outputs": [],
   "source": []
  },
  {
   "cell_type": "code",
   "execution_count": null,
   "metadata": {},
   "outputs": [],
   "source": []
  },
  {
   "cell_type": "code",
   "execution_count": 4,
   "metadata": {},
   "outputs": [
    {
     "data": {
      "text/plain": [
       "<matplotlib.image.AxesImage at 0x7f90ebd77550>"
      ]
     },
     "execution_count": 4,
     "metadata": {},
     "output_type": "execute_result"
    },
    {
     "data": {
      "image/png": "[encoded data removed]",
      "text/plain": [
       "<Figure size 432x288 with 1 Axes>"
      ]
     },
     "metadata": {},
     "output_type": "display_data"
    }
   ],
   "source": [
    "ex = '/home/venkat/Desktop/AI_ML/Hackathon-2/data/total/4_r24.png'\n",
    "img = cv2.imread(ex,cv2.IMREAD_UNCHANGED)\n",
    "plt.imshow(img) "
   ]
  },
  {
   "cell_type": "code",
   "execution_count": null,
   "metadata": {},
   "outputs": [],
   "source": []
  },
  {
   "cell_type": "code",
   "execution_count": 5,
   "metadata": {},
   "outputs": [
    {
     "data": {
      "text/plain": [
       "Text(0.5,1,'4')"
      ]
     },
     "execution_count": 5,
     "metadata": {},
     "output_type": "execute_result"
    },
    {
     "data": {
      "image/png": "[encoded data removed]",
      "text/plain": [
       "<Figure size 432x288 with 2 Axes>"
      ]
     },
     "metadata": {},
     "output_type": "display_data"
    }
   ],
   "source": [
    "\n",
    "img = cv2.imread(ex)\n",
    "plt.imshow(img)  \n",
    "plt.subplot(121)\n",
    "img = cv2.imread(addrs[0])\n",
    "plt.imshow(img)   \n",
    "plt.title(labels[0])\n",
    "plt.subplot(122)\n",
    "img = cv2.imread(addrs[1])\n",
    "plt.imshow(img)   \n",
    "plt.title(labels[1])"
   ]
  },
  {
   "cell_type": "code",
   "execution_count": 6,
   "metadata": {},
   "outputs": [],
   "source": [
    "# to shuffle data\n",
    "c = list(zip(addrs, labels))\n",
    "shuffle(c)\n",
    "addrs, labels = zip(*c)\n"
   ]
  },
  {
   "cell_type": "code",
   "execution_count": null,
   "metadata": {},
   "outputs": [],
   "source": []
  },
  {
   "cell_type": "code",
   "execution_count": null,
   "metadata": {},
   "outputs": [],
   "source": []
  },
  {
   "cell_type": "code",
   "execution_count": 8,
   "metadata": {},
   "outputs": [],
   "source": [
    "\n",
    "\n",
    "    \n",
    "# Divide the data into 60% train, 20% validation, and 20% test\n",
    "train_addrs = addrs[0:int(0.8*len(addrs))]\n",
    "train_labels = labels[0:int(0.8*len(labels))]\n",
    "#val_addrs = addrs[int(0.8*len(addrs)):int(0.8*len(addrs))]\n",
    "#val_labels = labels[int(0.7*len(addrs)):int(0.8*len(addrs))]\n",
    "test_addrs = addrs[int(0.8*len(addrs)):]\n",
    "test_labels = labels[int(0.8*len(labels)):]\n",
    "\n",
    "createDataRecord('train.tfrecords', train_addrs, train_labels)\n",
    "#createDataRecord('val.tfrecords', val_addrs, val_labels)\n",
    "createDataRecord('test.tfrecords', test_addrs, test_labels)"
   ]
  },
  {
   "cell_type": "code",
   "execution_count": 9,
   "metadata": {},
   "outputs": [
    {
     "name": "stdout",
     "output_type": "stream",
     "text": [
      "INFO:tensorflow:Using default config.\n",
      "INFO:tensorflow:Using config: {'_log_step_count_steps': 100, '_task_type': 'worker', '_save_summary_steps': 100, '_tf_random_seed': None, '_session_config': None, '_keep_checkpoint_max': 5, '_master': '', '_evaluation_master': '', '_num_worker_replicas': 1, '_service': None, '_cluster_spec': <tensorflow.python.training.server_lib.ClusterSpec object at 0x7f90ebc61be0>, '_save_checkpoints_steps': None, '_num_ps_replicas': 0, '_save_checkpoints_secs': 600, '_global_id_in_cluster': 0, '_train_distribute': None, '_model_dir': './model2/', '_task_id': 0, '_keep_checkpoint_every_n_hours': 10000, '_is_chief': True}\n",
      "INFO:tensorflow:Calling model_fn.\n",
      "INFO:tensorflow:Done calling model_fn.\n",
      "INFO:tensorflow:Create CheckpointSaverHook.\n",
      "INFO:tensorflow:Graph was finalized.\n",
      "INFO:tensorflow:Restoring parameters from ./model2/model.ckpt-723\n",
      "INFO:tensorflow:Running local_init_op.\n",
      "INFO:tensorflow:Done running local_init_op.\n",
      "INFO:tensorflow:Saving checkpoints for 724 into ./model2/model.ckpt.\n",
      "INFO:tensorflow:step = 724, loss = 0.50373805\n",
      "INFO:tensorflow:Saving checkpoints for 728 into ./model2/model.ckpt.\n",
      "INFO:tensorflow:Loss for final step: 0.18623139.\n",
      "INFO:tensorflow:Calling model_fn.\n",
      "INFO:tensorflow:Done calling model_fn.\n",
      "INFO:tensorflow:Starting evaluation at 2018-05-16-11:01:24\n",
      "INFO:tensorflow:Graph was finalized.\n",
      "INFO:tensorflow:Restoring parameters from ./model2/model.ckpt-728\n",
      "INFO:tensorflow:Running local_init_op.\n",
      "INFO:tensorflow:Done running local_init_op.\n",
      "INFO:tensorflow:Finished evaluation at 2018-05-16-11:01:27\n",
      "INFO:tensorflow:Saving dict for global step 728: accuracy = 0.8625, global_step = 728, loss = 0.39323953\n",
      "{'accuracy': 0.8625, 'global_step': 728, 'loss': 0.39323953}\n",
      "Classification accuracy: 86.25%\n",
      "INFO:tensorflow:Calling model_fn.\n",
      "INFO:tensorflow:Done calling model_fn.\n",
      "INFO:tensorflow:Create CheckpointSaverHook.\n",
      "INFO:tensorflow:Graph was finalized.\n",
      "INFO:tensorflow:Restoring parameters from ./model2/model.ckpt-728\n",
      "INFO:tensorflow:Running local_init_op.\n",
      "INFO:tensorflow:Done running local_init_op.\n",
      "INFO:tensorflow:Saving checkpoints for 729 into ./model2/model.ckpt.\n",
      "INFO:tensorflow:step = 729, loss = 0.4210085\n",
      "INFO:tensorflow:Saving checkpoints for 733 into ./model2/model.ckpt.\n",
      "INFO:tensorflow:Loss for final step: 0.2829096.\n",
      "INFO:tensorflow:Calling model_fn.\n",
      "INFO:tensorflow:Done calling model_fn.\n",
      "INFO:tensorflow:Starting evaluation at 2018-05-16-11:01:50\n",
      "INFO:tensorflow:Graph was finalized.\n",
      "INFO:tensorflow:Restoring parameters from ./model2/model.ckpt-733\n",
      "INFO:tensorflow:Running local_init_op.\n",
      "INFO:tensorflow:Done running local_init_op.\n",
      "INFO:tensorflow:Finished evaluation at 2018-05-16-11:01:53\n",
      "INFO:tensorflow:Saving dict for global step 733: accuracy = 0.8625, global_step = 733, loss = 0.42115682\n",
      "{'accuracy': 0.8625, 'global_step': 733, 'loss': 0.42115682}\n",
      "Classification accuracy: 86.25%\n",
      "INFO:tensorflow:Calling model_fn.\n",
      "INFO:tensorflow:Done calling model_fn.\n",
      "INFO:tensorflow:Create CheckpointSaverHook.\n",
      "INFO:tensorflow:Graph was finalized.\n",
      "INFO:tensorflow:Restoring parameters from ./model2/model.ckpt-733\n",
      "INFO:tensorflow:Running local_init_op.\n",
      "INFO:tensorflow:Done running local_init_op.\n",
      "INFO:tensorflow:Saving checkpoints for 734 into ./model2/model.ckpt.\n",
      "INFO:tensorflow:step = 734, loss = 0.31777668\n",
      "INFO:tensorflow:Saving checkpoints for 738 into ./model2/model.ckpt.\n",
      "INFO:tensorflow:Loss for final step: 0.24845693.\n",
      "INFO:tensorflow:Calling model_fn.\n",
      "INFO:tensorflow:Done calling model_fn.\n",
      "INFO:tensorflow:Starting evaluation at 2018-05-16-11:02:16\n",
      "INFO:tensorflow:Graph was finalized.\n",
      "INFO:tensorflow:Restoring parameters from ./model2/model.ckpt-738\n",
      "INFO:tensorflow:Running local_init_op.\n",
      "INFO:tensorflow:Done running local_init_op.\n",
      "INFO:tensorflow:Finished evaluation at 2018-05-16-11:02:19\n",
      "INFO:tensorflow:Saving dict for global step 738: accuracy = 0.8625, global_step = 738, loss = 0.31516904\n",
      "{'accuracy': 0.8625, 'global_step': 738, 'loss': 0.31516904}\n",
      "Classification accuracy: 86.25%\n",
      "INFO:tensorflow:Calling model_fn.\n",
      "INFO:tensorflow:Done calling model_fn.\n",
      "INFO:tensorflow:Create CheckpointSaverHook.\n",
      "INFO:tensorflow:Graph was finalized.\n",
      "INFO:tensorflow:Restoring parameters from ./model2/model.ckpt-738\n",
      "INFO:tensorflow:Running local_init_op.\n",
      "INFO:tensorflow:Done running local_init_op.\n",
      "INFO:tensorflow:Saving checkpoints for 739 into ./model2/model.ckpt.\n",
      "INFO:tensorflow:step = 739, loss = 0.378531\n",
      "INFO:tensorflow:Saving checkpoints for 743 into ./model2/model.ckpt.\n",
      "INFO:tensorflow:Loss for final step: 0.14447868.\n",
      "INFO:tensorflow:Calling model_fn.\n",
      "INFO:tensorflow:Done calling model_fn.\n",
      "INFO:tensorflow:Starting evaluation at 2018-05-16-11:02:43\n",
      "INFO:tensorflow:Graph was finalized.\n",
      "INFO:tensorflow:Restoring parameters from ./model2/model.ckpt-743\n",
      "INFO:tensorflow:Running local_init_op.\n",
      "INFO:tensorflow:Done running local_init_op.\n",
      "INFO:tensorflow:Finished evaluation at 2018-05-16-11:02:46\n",
      "INFO:tensorflow:Saving dict for global step 743: accuracy = 0.8875, global_step = 743, loss = 0.31482273\n",
      "{'accuracy': 0.8875, 'global_step': 743, 'loss': 0.31482273}\n",
      "Classification accuracy: 88.75%\n",
      "INFO:tensorflow:Calling model_fn.\n",
      "INFO:tensorflow:Done calling model_fn.\n",
      "INFO:tensorflow:Create CheckpointSaverHook.\n",
      "INFO:tensorflow:Graph was finalized.\n",
      "INFO:tensorflow:Restoring parameters from ./model2/model.ckpt-743\n",
      "INFO:tensorflow:Running local_init_op.\n",
      "INFO:tensorflow:Done running local_init_op.\n",
      "INFO:tensorflow:Saving checkpoints for 744 into ./model2/model.ckpt.\n",
      "INFO:tensorflow:step = 744, loss = 0.21546237\n",
      "INFO:tensorflow:Saving checkpoints for 748 into ./model2/model.ckpt.\n",
      "INFO:tensorflow:Loss for final step: 0.24158172.\n",
      "INFO:tensorflow:Calling model_fn.\n",
      "INFO:tensorflow:Done calling model_fn.\n",
      "INFO:tensorflow:Starting evaluation at 2018-05-16-11:03:09\n",
      "INFO:tensorflow:Graph was finalized.\n",
      "INFO:tensorflow:Restoring parameters from ./model2/model.ckpt-748\n",
      "INFO:tensorflow:Running local_init_op.\n",
      "INFO:tensorflow:Done running local_init_op.\n",
      "INFO:tensorflow:Finished evaluation at 2018-05-16-11:03:12\n",
      "INFO:tensorflow:Saving dict for global step 748: accuracy = 0.8875, global_step = 748, loss = 0.33988568\n",
      "{'accuracy': 0.8875, 'global_step': 748, 'loss': 0.33988568}\n",
      "Classification accuracy: 88.75%\n",
      "INFO:tensorflow:Calling model_fn.\n",
      "INFO:tensorflow:Done calling model_fn.\n",
      "INFO:tensorflow:Create CheckpointSaverHook.\n",
      "INFO:tensorflow:Graph was finalized.\n",
      "INFO:tensorflow:Restoring parameters from ./model2/model.ckpt-748\n",
      "INFO:tensorflow:Running local_init_op.\n",
      "INFO:tensorflow:Done running local_init_op.\n",
      "INFO:tensorflow:Saving checkpoints for 749 into ./model2/model.ckpt.\n",
      "INFO:tensorflow:step = 749, loss = 0.2837764\n",
      "INFO:tensorflow:Saving checkpoints for 753 into ./model2/model.ckpt.\n",
      "INFO:tensorflow:Loss for final step: 0.22876135.\n",
      "INFO:tensorflow:Calling model_fn.\n",
      "INFO:tensorflow:Done calling model_fn.\n",
      "INFO:tensorflow:Starting evaluation at 2018-05-16-11:03:35\n",
      "INFO:tensorflow:Graph was finalized.\n",
      "INFO:tensorflow:Restoring parameters from ./model2/model.ckpt-753\n",
      "INFO:tensorflow:Running local_init_op.\n",
      "INFO:tensorflow:Done running local_init_op.\n",
      "INFO:tensorflow:Finished evaluation at 2018-05-16-11:03:37\n",
      "INFO:tensorflow:Saving dict for global step 753: accuracy = 0.8625, global_step = 753, loss = 0.36278298\n",
      "{'accuracy': 0.8625, 'global_step': 753, 'loss': 0.36278298}\n",
      "Classification accuracy: 86.25%\n",
      "INFO:tensorflow:Calling model_fn.\n",
      "INFO:tensorflow:Done calling model_fn.\n",
      "INFO:tensorflow:Create CheckpointSaverHook.\n",
      "INFO:tensorflow:Graph was finalized.\n",
      "INFO:tensorflow:Restoring parameters from ./model2/model.ckpt-753\n",
      "INFO:tensorflow:Running local_init_op.\n",
      "INFO:tensorflow:Done running local_init_op.\n",
      "INFO:tensorflow:Saving checkpoints for 754 into ./model2/model.ckpt.\n",
      "INFO:tensorflow:step = 754, loss = 0.29421556\n",
      "INFO:tensorflow:Saving checkpoints for 758 into ./model2/model.ckpt.\n",
      "INFO:tensorflow:Loss for final step: 0.20058763.\n",
      "INFO:tensorflow:Calling model_fn.\n",
      "INFO:tensorflow:Done calling model_fn.\n",
      "INFO:tensorflow:Starting evaluation at 2018-05-16-11:04:00\n",
      "INFO:tensorflow:Graph was finalized.\n",
      "INFO:tensorflow:Restoring parameters from ./model2/model.ckpt-758\n",
      "INFO:tensorflow:Running local_init_op.\n",
      "INFO:tensorflow:Done running local_init_op.\n",
      "INFO:tensorflow:Finished evaluation at 2018-05-16-11:04:03\n"
     ]
    },
    {
     "name": "stdout",
     "output_type": "stream",
     "text": [
      "INFO:tensorflow:Saving dict for global step 758: accuracy = 0.8375, global_step = 758, loss = 0.35769176\n",
      "{'accuracy': 0.8375, 'global_step': 758, 'loss': 0.35769176}\n",
      "Classification accuracy: 83.75%\n",
      "INFO:tensorflow:Calling model_fn.\n",
      "INFO:tensorflow:Done calling model_fn.\n",
      "INFO:tensorflow:Create CheckpointSaverHook.\n",
      "INFO:tensorflow:Graph was finalized.\n",
      "INFO:tensorflow:Restoring parameters from ./model2/model.ckpt-758\n",
      "INFO:tensorflow:Running local_init_op.\n",
      "INFO:tensorflow:Done running local_init_op.\n",
      "INFO:tensorflow:Saving checkpoints for 759 into ./model2/model.ckpt.\n",
      "INFO:tensorflow:step = 759, loss = 0.26013604\n",
      "INFO:tensorflow:Saving checkpoints for 763 into ./model2/model.ckpt.\n",
      "INFO:tensorflow:Loss for final step: 0.42988545.\n",
      "INFO:tensorflow:Calling model_fn.\n",
      "INFO:tensorflow:Done calling model_fn.\n",
      "INFO:tensorflow:Starting evaluation at 2018-05-16-11:04:26\n",
      "INFO:tensorflow:Graph was finalized.\n",
      "INFO:tensorflow:Restoring parameters from ./model2/model.ckpt-763\n",
      "INFO:tensorflow:Running local_init_op.\n",
      "INFO:tensorflow:Done running local_init_op.\n",
      "INFO:tensorflow:Finished evaluation at 2018-05-16-11:04:28\n",
      "INFO:tensorflow:Saving dict for global step 763: accuracy = 0.8875, global_step = 763, loss = 0.40162957\n",
      "{'accuracy': 0.8875, 'global_step': 763, 'loss': 0.40162957}\n",
      "Classification accuracy: 88.75%\n",
      "INFO:tensorflow:Calling model_fn.\n",
      "INFO:tensorflow:Done calling model_fn.\n",
      "INFO:tensorflow:Create CheckpointSaverHook.\n",
      "INFO:tensorflow:Graph was finalized.\n",
      "INFO:tensorflow:Restoring parameters from ./model2/model.ckpt-763\n",
      "INFO:tensorflow:Running local_init_op.\n",
      "INFO:tensorflow:Done running local_init_op.\n",
      "INFO:tensorflow:Saving checkpoints for 764 into ./model2/model.ckpt.\n",
      "INFO:tensorflow:step = 764, loss = 0.30672556\n",
      "INFO:tensorflow:Saving checkpoints for 768 into ./model2/model.ckpt.\n",
      "INFO:tensorflow:Loss for final step: 0.15506482.\n",
      "INFO:tensorflow:Calling model_fn.\n",
      "INFO:tensorflow:Done calling model_fn.\n",
      "INFO:tensorflow:Starting evaluation at 2018-05-16-11:04:51\n",
      "INFO:tensorflow:Graph was finalized.\n",
      "INFO:tensorflow:Restoring parameters from ./model2/model.ckpt-768\n",
      "INFO:tensorflow:Running local_init_op.\n",
      "INFO:tensorflow:Done running local_init_op.\n",
      "INFO:tensorflow:Finished evaluation at 2018-05-16-11:04:53\n",
      "INFO:tensorflow:Saving dict for global step 768: accuracy = 0.8875, global_step = 768, loss = 0.31669837\n",
      "{'accuracy': 0.8875, 'global_step': 768, 'loss': 0.31669837}\n",
      "Classification accuracy: 88.75%\n",
      "INFO:tensorflow:Calling model_fn.\n",
      "INFO:tensorflow:Done calling model_fn.\n",
      "INFO:tensorflow:Create CheckpointSaverHook.\n",
      "INFO:tensorflow:Graph was finalized.\n",
      "INFO:tensorflow:Restoring parameters from ./model2/model.ckpt-768\n",
      "INFO:tensorflow:Running local_init_op.\n",
      "INFO:tensorflow:Done running local_init_op.\n",
      "INFO:tensorflow:Saving checkpoints for 769 into ./model2/model.ckpt.\n",
      "INFO:tensorflow:step = 769, loss = 0.34822875\n",
      "INFO:tensorflow:Saving checkpoints for 773 into ./model2/model.ckpt.\n",
      "INFO:tensorflow:Loss for final step: 0.16749294.\n",
      "INFO:tensorflow:Calling model_fn.\n",
      "INFO:tensorflow:Done calling model_fn.\n",
      "INFO:tensorflow:Starting evaluation at 2018-05-16-11:05:18\n",
      "INFO:tensorflow:Graph was finalized.\n",
      "INFO:tensorflow:Restoring parameters from ./model2/model.ckpt-773\n",
      "INFO:tensorflow:Running local_init_op.\n",
      "INFO:tensorflow:Done running local_init_op.\n",
      "INFO:tensorflow:Finished evaluation at 2018-05-16-11:05:20\n",
      "INFO:tensorflow:Saving dict for global step 773: accuracy = 0.8875, global_step = 773, loss = 0.3501733\n",
      "{'accuracy': 0.8875, 'global_step': 773, 'loss': 0.3501733}\n",
      "Classification accuracy: 88.75%\n"
     ]
    }
   ],
   "source": [
    "logs_path = \"logs\"\n",
    "sess = tf.Session()\n",
    "sess.run(tf.global_variables_initializer())\n",
    "\n",
    "# op to write logs to Tensorboard\n",
    "summary_writer = tf.summary.FileWriter(logs_path, graph=sess.graph)\n",
    "\n",
    "def parser(record):\n",
    "    keys_to_features = {\n",
    "        \"image_raw\": tf.FixedLenFeature([], tf.string),\n",
    "        \"label\":     tf.FixedLenFeature([], tf.int64)\n",
    "    }\n",
    "    parsed = tf.parse_single_example(record, keys_to_features)\n",
    "    image = tf.decode_raw(parsed[\"image_raw\"], tf.uint8)\n",
    "    image = tf.cast(image, tf.float32)\n",
    "    image = tf.reshape(image, shape=[224, 224, 3])\n",
    "    label = tf.cast(parsed[\"label\"], tf.int32)\n",
    "\n",
    "    return {'image': image}, label\n",
    "\n",
    "\n",
    "def input_fn(filenames):\n",
    "    dataset = tf.data.TFRecordDataset(filenames=filenames)\n",
    "    dataset = dataset.shuffle(buffer_size=64)\n",
    "    dataset = dataset.map(map_func=parser)\n",
    "    dataset = dataset.batch(batch_size=64)\n",
    "    dataset = dataset.prefetch(buffer_size=64)\n",
    "    return dataset\n",
    "\n",
    "def train_input_fn():\n",
    "    #return input_fn(filenames=[\"train.tfrecords\", \"test.tfrecords\"])\n",
    "    return input_fn(filenames=[\"train.tfrecords\"])\n",
    "\n",
    "def val_input_fn():\n",
    "    return input_fn(filenames=[\"test.tfrecords\"])\n",
    "\n",
    "def model_fn(features, labels, mode, params):\n",
    "    num_classes = 6\n",
    "    net = features[\"image\"]\n",
    "\n",
    "    net = tf.reshape(net, [-1, 224, 224, 3])   \n",
    "\n",
    "    net = tf.layers.conv2d(inputs=net, name='layer_conv1',filters=32, kernel_size=3,padding='same', activation=tf.nn.relu)\n",
    "    \n",
    "    net = tf.layers.max_pooling2d(inputs=net, pool_size=2, strides=2)\n",
    "\n",
    "    net = tf.layers.conv2d(inputs=net, name='layer_conv2',filters=32, kernel_size=3, padding='same', activation=tf.nn.relu)\n",
    "    net = tf.layers.max_pooling2d(inputs=net, pool_size=2, strides=2)    \n",
    "\n",
    "    net = tf.contrib.layers.flatten(net)\n",
    "\n",
    "    net = tf.layers.dense(inputs=net, name='layer_fc1', units=128, activation=tf.nn.relu)    \n",
    "    net = tf.layers.dense(inputs=net, name='layer_fc_2', units=num_classes)\n",
    "\n",
    "    logits = net\n",
    "    y_pred = tf.nn.softmax(logits=logits)\n",
    "    y_pred_cls = tf.argmax(y_pred, axis=1)\n",
    "\n",
    "    if mode == tf.estimator.ModeKeys.PREDICT:\n",
    "        spec = tf.estimator.EstimatorSpec(mode=mode,predictions=y_pred_cls)\n",
    "    else:\n",
    "        cross_entropy = tf.nn.sparse_softmax_cross_entropy_with_logits(labels=labels,logits=logits)\n",
    "        loss = tf.reduce_mean(cross_entropy)\n",
    "        tf.summary.scalar('loss', loss)\n",
    "\n",
    "        optimizer = tf.train.AdamOptimizer(learning_rate=params[\"learning_rate\"])\n",
    "        \n",
    "        train_op = optimizer.minimize(loss=loss, global_step=tf.train.get_global_step())\n",
    "        metrics = { \"accuracy\": tf.metrics.accuracy(labels, y_pred_cls)}\n",
    "        #tf.summary.scalar(\"accuracy\", tf.metrics.accuracy(labels, y_pred_cls))\n",
    "        \n",
    "        spec = tf.estimator.EstimatorSpec(\n",
    "            mode=mode,\n",
    "            loss=loss,\n",
    "            train_op=train_op,\n",
    "            eval_metric_ops=metrics)\n",
    "        \n",
    "    return spec\n",
    "\n",
    "model = tf.estimator.Estimator(model_fn=model_fn,\n",
    "                               params={\"learning_rate\": 1e-4},\n",
    "                               model_dir=\"./model2/\")\n",
    "\n",
    "count = 0\n",
    "while (count < 10):\n",
    "    model.train(input_fn=train_input_fn, steps=None)\n",
    "    \n",
    "    result = model.evaluate(input_fn=val_input_fn)\n",
    "    print(result)\n",
    "    print(\"Classification accuracy: {0:.2%}\".format(result[\"accuracy\"]))\n",
    "    sys.stdout.flush()\n",
    "    count = count + 1"
   ]
  },
  {
   "cell_type": "code",
   "execution_count": 10,
   "metadata": {},
   "outputs": [
    {
     "name": "stdout",
     "output_type": "stream",
     "text": [
      "INFO:tensorflow:Calling model_fn.\n",
      "INFO:tensorflow:Done calling model_fn.\n",
      "INFO:tensorflow:Starting evaluation at 2018-05-16-11:08:22\n",
      "INFO:tensorflow:Graph was finalized.\n",
      "INFO:tensorflow:Restoring parameters from ./model2/model.ckpt-773\n",
      "INFO:tensorflow:Running local_init_op.\n",
      "INFO:tensorflow:Done running local_init_op.\n",
      "INFO:tensorflow:Finished evaluation at 2018-05-16-11:08:25\n",
      "INFO:tensorflow:Saving dict for global step 773: accuracy = 0.8875, global_step = 773, loss = 0.2578984\n"
     ]
    },
    {
     "data": {
      "text/plain": [
       "{'accuracy': 0.8875, 'global_step': 773, 'loss': 0.2578984}"
      ]
     },
     "execution_count": 10,
     "metadata": {},
     "output_type": "execute_result"
    }
   ],
   "source": [
    "result = model.evaluate(input_fn=val_input_fn)\n",
    "result"
   ]
  },
  {
   "cell_type": "code",
   "execution_count": 18,
   "metadata": {},
   "outputs": [
    {
     "ename": "TypeError",
     "evalue": "'PrefetchDataset' object does not support indexing",
     "output_type": "error",
     "traceback": [
      "\u001b[0;31m---------------------------------------------------------------------------\u001b[0m",
      "\u001b[0;31mTypeError\u001b[0m                                 Traceback (most recent call last)",
      "\u001b[0;32m<ipython-input-18-0d59611fa447>\u001b[0m in \u001b[0;36m<module>\u001b[0;34m()\u001b[0m\n\u001b[1;32m      1\u001b[0m \u001b[0mtestData\u001b[0m \u001b[0;34m=\u001b[0m \u001b[0mval_input_fn\u001b[0m\u001b[0;34m(\u001b[0m\u001b[0;34m)\u001b[0m\u001b[0;34m\u001b[0m\u001b[0m\n\u001b[0;32m----> 2\u001b[0;31m \u001b[0mtestData\u001b[0m\u001b[0;34m[\u001b[0m\u001b[0;36m0\u001b[0m\u001b[0;34m]\u001b[0m\u001b[0;34m\u001b[0m\u001b[0m\n\u001b[0m\u001b[1;32m      3\u001b[0m \u001b[0;31m#resu = model.predict(input_fn=val_input_fn)\u001b[0m\u001b[0;34m\u001b[0m\u001b[0;34m\u001b[0m\u001b[0m\n\u001b[1;32m      4\u001b[0m \u001b[0;31m#for i in resu:\u001b[0m\u001b[0;34m\u001b[0m\u001b[0;34m\u001b[0m\u001b[0m\n\u001b[1;32m      5\u001b[0m \u001b[0;31m#    print(i)\u001b[0m\u001b[0;34m\u001b[0m\u001b[0;34m\u001b[0m\u001b[0m\n",
      "\u001b[0;31mTypeError\u001b[0m: 'PrefetchDataset' object does not support indexing"
     ]
    }
   ],
   "source": [
    "testData = val_input_fn()\n",
    "testData[0]\n",
    "#resu = model.predict(input_fn=val_input_fn)\n",
    "#for i in resu:\n",
    "#    print(i)"
   ]
  },
  {
   "cell_type": "code",
   "execution_count": 29,
   "metadata": {},
   "outputs": [
    {
     "ename": "TypeError",
     "evalue": "'Iterator' object is not iterable",
     "output_type": "error",
     "traceback": [
      "\u001b[0;31m---------------------------------------------------------------------------\u001b[0m",
      "\u001b[0;31mTypeError\u001b[0m                                 Traceback (most recent call last)",
      "\u001b[0;32m<ipython-input-29-6f4ad394f59a>\u001b[0m in \u001b[0;36m<module>\u001b[0;34m()\u001b[0m\n\u001b[0;32m----> 1\u001b[0;31m \u001b[0;32mfor\u001b[0m \u001b[0mi\u001b[0m \u001b[0;32min\u001b[0m \u001b[0mtestData\u001b[0m\u001b[0;34m.\u001b[0m\u001b[0mmake_one_shot_iterator\u001b[0m\u001b[0;34m(\u001b[0m\u001b[0;34m)\u001b[0m\u001b[0;34m:\u001b[0m\u001b[0;34m\u001b[0m\u001b[0m\n\u001b[0m\u001b[1;32m      2\u001b[0m     \u001b[0mprint\u001b[0m\u001b[0;34m(\u001b[0m\u001b[0mi\u001b[0m\u001b[0;34m)\u001b[0m\u001b[0;34m\u001b[0m\u001b[0m\n",
      "\u001b[0;31mTypeError\u001b[0m: 'Iterator' object is not iterable"
     ]
    }
   ],
   "source": [
    "for test in test_addrs:\n",
    "    model.predict()\n"
   ]
  },
  {
   "cell_type": "code",
   "execution_count": null,
   "metadata": {},
   "outputs": [],
   "source": []
  }
 ],
 "metadata": {
  "kernelspec": {
   "display_name": "Python 3",
   "language": "python",
   "name": "python3"
  },
  "language_info": {
   "codemirror_mode": {
    "name": "ipython",
    "version": 3
   },
   "file_extension": ".py",
   "mimetype": "text/x-python",
   "name": "python",
   "nbconvert_exporter": "python",
   "pygments_lexer": "ipython3",
   "version": "3.5.2"
  }
 },
 "nbformat": 4,
 "nbformat_minor": 2
}
